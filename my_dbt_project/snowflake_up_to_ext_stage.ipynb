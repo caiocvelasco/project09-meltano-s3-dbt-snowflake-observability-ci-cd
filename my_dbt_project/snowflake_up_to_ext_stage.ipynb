{
 "cells": [
  {
   "cell_type": "markdown",
   "metadata": {},
   "source": [
    "## Importing Libraries"
   ]
  },
  {
   "cell_type": "code",
   "execution_count": null,
   "metadata": {},
   "outputs": [],
   "source": [
    "import os\n",
    "import boto3\n",
    "from dotenv import load_dotenv\n",
    "import snowflake.connector\n",
    "import pandas as pd"
   ]
  },
  {
   "cell_type": "markdown",
   "metadata": {},
   "source": [
    "## Setting Up Snowflake Connection and AWS S3 Connection"
   ]
  },
  {
   "cell_type": "markdown",
   "metadata": {},
   "source": [
    "References:\n",
    "* https://docs.snowflake.com/en/user-guide/data-load-s3-config-storage-integration"
   ]
  },
  {
   "cell_type": "markdown",
   "metadata": {},
   "source": [
    "### Loading Environmental Variables"
   ]
  },
  {
   "cell_type": "code",
   "execution_count": null,
   "metadata": {},
   "outputs": [],
   "source": [
    "# Load environment variables from the .env file\n",
    "load_dotenv()\n",
    "\n",
    "# Fetch Snowflake credentials from environment variables\n",
    "snowflake_user = os.getenv('SNOWFLAKE_USER')\n",
    "snowflake_password = os.getenv('SNOWFLAKE_PASSWORD')\n",
    "snowflake_account = os.getenv('SNOWFLAKE_ACCOUNT')\n",
    "snowflake_warehouse = os.getenv('SNOWFLAKE_WAREHOUSE')\n",
    "snowflake_database = os.getenv('SNOWFLAKE_DATABASE')\n",
    "snowflake_schema_bronze = os.getenv('SNOWFLAKE_SCHEMA_PUBLIC')\n",
    "snowflake_schema_bronze = os.getenv('SNOWFLAKE_SCHEMA_BRONZE')\n",
    "snowflake_schema_silver = os.getenv('SNOWFLAKE_SCHEMA_SILVER')\n",
    "snowflake_schema_gold = os.getenv('SNOWFLAKE_SCHEMA_GOLD')\n",
    "\n",
    "# Fetch AWS IAM role ARN and S3 bucket details from environment variables\n",
    "s3_snowflake_iam_role_arn = os.getenv('S3_SNOWFLAKE_IAM_ROLE_ARN')\n",
    "s3_snowflake_storage_integration = os.getenv('S3_SNOWFLAKE_STORAGE_INTEGRATION')\n",
    "s3_snowflake_stage= os.getenv('S3_SNOWFLAKE_STAGE')\n",
    "s3_iam_role_arn = os.getenv('S3_IAM_ROLE_ARN')\n",
    "s3_bucket_name = os.getenv('S3_BUCKET_NAME')\n",
    "s3_file_prefix = ''  # No prefix needed since the bucket name itself is the prefix\n",
    "s3_access_key_id = os.getenv('S3_ACCESS_KEY_ID')\n",
    "s3_secret_access_key = os.getenv('S3_SECRET_ACCESS_KEY')\n",
    "s3_region = os.getenv('S3_REGION')"
   ]
  },
  {
   "cell_type": "markdown",
   "metadata": {},
   "source": [
    "## Setting Up Snowflake External Stage"
   ]
  },
  {
   "cell_type": "markdown",
   "metadata": {},
   "source": [
    "### Creating Warehouse, Database, and Schema in Snowflake"
   ]
  },
  {
   "cell_type": "code",
   "execution_count": null,
   "metadata": {},
   "outputs": [],
   "source": [
    "# Create warehouse\n",
    "create_snowflake_warehouse_sql = f\"\"\"\n",
    "        CREATE WAREHOUSE IF NOT EXISTS {snowflake_warehouse.upper()}\n",
    "          WITH WAREHOUSE_SIZE = 'XSMALL'\n",
    "          AUTO_SUSPEND = 300\n",
    "          AUTO_RESUME = TRUE\n",
    "          INITIALLY_SUSPENDED = TRUE;\n",
    "\"\"\"\n",
    "\n",
    "# Use Warehouse\n",
    "use_snowflake_warehouse = f\"ALTER WAREHOUSE {snowflake_warehouse.upper()} RESUME;\"\n",
    "\n",
    "# Create Database\n",
    "create_snowflake_database_sql = f\"CREATE DATABASE IF NOT EXISTS {snowflake_database.upper()};\"\n",
    "\n",
    "# Use Database\n",
    "use_snowflake_database = f\"USE DATABASE {snowflake_database.upper()};\"\n",
    "\n",
    "# Create Bronze Schema\n",
    "create_snowflake_bronze_schema = f\"CREATE SCHEMA IF NOT EXISTS {snowflake_database.upper()}.{snowflake_schema_bronze.upper()};\"\n",
    "\n",
    "# Use Bronze Schema\n",
    "use_snowflake_bronze_schema = f\"USE SCHEMA {snowflake_database.upper()}.{snowflake_schema_bronze.upper()};\""
   ]
  },
  {
   "cell_type": "markdown",
   "metadata": {},
   "source": [
    "### Creating Roles, Granting Priviledges to Roles, Creating Users, Granting Roles to Users"
   ]
  },
  {
   "cell_type": "code",
   "execution_count": null,
   "metadata": {},
   "outputs": [],
   "source": [
    "# SQL statements for role creation and privilege assignment\n",
    "create_role_sql = \"CREATE ROLE IF NOT EXISTS storage_admin\"\n",
    "\n",
    "priv_usage_on_warehouse = f\"GRANT USAGE ON WAREHOUSE {snowflake_warehouse.upper()} TO ROLE storage_admin;\"\n",
    "priv_usage_on_database  = f\"GRANT USAGE ON DATABASE {snowflake_database.upper()} TO ROLE storage_admin;\"\n",
    "priv_usage_on_schema    = f\"GRANT USAGE ON SCHEMA {snowflake_database.upper()}.{snowflake_schema_bronze.upper()} TO ROLE storage_admin;\"\n",
    "priv_create_file_fmt_on_schema = f\"GRANT CREATE FILE FORMAT ON SCHEMA {snowflake_database.upper()}.{snowflake_schema_bronze.upper()} TO ROLE storage_admin;\"\n",
    "priv_create_interagration      = \"GRANT CREATE INTEGRATION ON ACCOUNT TO ROLE storage_admin;\"\n",
    "priv_usage_on_integration      = f\"GRANT USAGE ON INTEGRATION {s3_snowflake_storage_integration.upper()} TO ROLE storage_admin;\"\n",
    "priv_create_stage_on_schema    = f\"GRANT CREATE STAGE ON SCHEMA {snowflake_database.upper()}.{snowflake_schema_bronze.upper()} TO ROLE storage_admin;\"\n",
    "priv_create_table_on_schema    = f\"GRANT CREATE TABLE ON SCHEMA {snowflake_schema_bronze.upper()} TO ROLE storage_admin;\"\n",
    "\n",
    "\n",
    "create_user_sql = f\"\"\"\n",
    "CREATE USER IF NOT EXISTS my_user\n",
    "    PASSWORD = 'my_password'\n",
    "    DEFAULT_ROLE = 'storage_admin'\n",
    "    DEFAULT_WAREHOUSE = '{snowflake_warehouse}';\n",
    "\"\"\"\n",
    "\n",
    "grant_role_to_myuser = \"GRANT ROLE storage_admin TO USER my_user;\"\n",
    "grant_role_to_cvconsulting = \"GRANT ROLE storage_admin TO USER cvconsulting;\"\n",
    "using_role_storage_admin = \"USE ROLE storage_admin;\"\n",
    "current_user_in_snf_session = \"SELECT CURRENT_USER();\"\n",
    "current_role_in_snf_session = \"SELECT CURRENT_ROLE();\""
   ]
  },
  {
   "cell_type": "markdown",
   "metadata": {},
   "source": [
    "### Creating Storage Integration"
   ]
  },
  {
   "cell_type": "code",
   "execution_count": null,
   "metadata": {},
   "outputs": [],
   "source": [
    "# Create Storage Integration\n",
    "# Reference: https://docs.snowflake.com/en/sql-reference/sql/create-storage-integration\n",
    "create_storage_integration_sql = f\"\"\"\n",
    "CREATE STORAGE INTEGRATION IF NOT EXISTS {s3_snowflake_storage_integration.upper()}\n",
    "    TYPE = EXTERNAL_STAGE\n",
    "    STORAGE_PROVIDER = 'S3'\n",
    "    ENABLED = TRUE\n",
    "    STORAGE_AWS_ROLE_ARN = '{s3_snowflake_iam_role_arn}'\n",
    "    STORAGE_ALLOWED_LOCATIONS = ('s3://{s3_bucket_name}');\n",
    "\"\"\"\n",
    "show_storage_integration_sql = f\"SHOW STORAGE INTEGRATIONS LIKE '{s3_snowflake_storage_integration.upper()}'\"\n",
    "desc_storage_integration_sql = f\"DESC INTEGRATION {s3_snowflake_storage_integration.upper()}\""
   ]
  },
  {
   "cell_type": "markdown",
   "metadata": {},
   "source": [
    "### Create 'named file format' for External Stage"
   ]
  },
  {
   "cell_type": "code",
   "execution_count": null,
   "metadata": {},
   "outputs": [],
   "source": [
    "# Create FILE FORMAT\n",
    "# Reference: https://docs.snowflake.com/en/sql-reference/sql/create-file-format\n",
    "\n",
    "file_format = \"my_parquet_format\"\n",
    "\n",
    "create_named_file_format_sql = f\"\"\"\n",
    "CREATE FILE FORMAT IF NOT EXISTS {file_format}\n",
    "    TYPE = 'PARQUET'\n",
    "    COMPRESSION = 'SNAPPY';\n",
    "\"\"\"\n",
    "\n",
    "# Grant USAGE privilege on the File Format\n",
    "grant_usage_on_file_format = f\"GRANT USAGE ON FILE FORMAT {file_format.upper()} TO ROLE storage_admin;\""
   ]
  },
  {
   "cell_type": "markdown",
   "metadata": {},
   "source": [
    "### Create External Stage"
   ]
  },
  {
   "cell_type": "code",
   "execution_count": null,
   "metadata": {},
   "outputs": [],
   "source": [
    "# Create External Stage\n",
    "# Reference: https://docs.snowflake.com/en/user-guide/data-load-s3-create-stage\n",
    "\n",
    "# Use Database\n",
    "use_snowflake_database = f\"USE DATABASE {snowflake_database.upper()};\"\n",
    "\n",
    "# Use Bronze Schema\n",
    "use_snowflake_bronze_schema = f\"USE SCHEMA {snowflake_database.upper()}.{snowflake_schema_bronze.upper()};\"\n",
    "\n",
    "create_external_stage_sql = f\"\"\"\n",
    "CREATE STAGE IF NOT EXISTS {s3_snowflake_stage.upper()}\n",
    "    STORAGE_INTEGRATION = {s3_snowflake_storage_integration.upper()}\n",
    "    URL='s3://{s3_bucket_name}'\n",
    "    FILE_FORMAT = {file_format};\n",
    "\"\"\"\n",
    "# Grant USAGE privilege on the External Stage\n",
    "grant_usage_on_external_stage = f\"GRANT USAGE ON STAGE {snowflake_database.upper()}.{snowflake_schema_bronze.upper()}.{s3_snowflake_stage.upper()} TO ROLE storage_admin;\"\n",
    "\n",
    "show_external_stage_sql = f\"SHOW STAGES LIKE '{s3_snowflake_stage.upper()}' IN DATABASE\""
   ]
  },
  {
   "cell_type": "markdown",
   "metadata": {},
   "source": [
    "### Connecting to Snowflake - Storage Integration, External Stage, External Tables / Role, User, Privileges "
   ]
  },
  {
   "cell_type": "code",
   "execution_count": null,
   "metadata": {},
   "outputs": [],
   "source": [
    "try:\n",
    "    # Snowflake connection context manager\n",
    "    with snowflake.connector.connect(\n",
    "        user=snowflake_user,\n",
    "        password=snowflake_password,\n",
    "        account=snowflake_account,\n",
    "        warehouse=snowflake_warehouse,\n",
    "        database=snowflake_database,\n",
    "        schema=snowflake_schema_bronze  # Optionally specify the schema for the session\n",
    "    ) as conn:\n",
    "        \n",
    "        # Execute operations within the context manager\n",
    "        cursor = conn.cursor()\n",
    "\n",
    "        try:\n",
    "            cursor.execute(create_snowflake_warehouse_sql) # CREATE WAREHOUSE            \n",
    "            print(\"Warehouse created successfully.\")\n",
    "            \n",
    "            cursor.execute(create_snowflake_database_sql)  # CREATE DATABASE\n",
    "            print(\"Database created successfully.\")\n",
    "            cursor.execute(use_snowflake_database)         # Use Database (Set it for the user session)\n",
    "            \n",
    "            cursor.execute(create_snowflake_bronze_schema) # CREATE SCHEMA    \n",
    "            print(\"Bronze Schema created successfully.\")\n",
    "            cursor.execute(use_snowflake_bronze_schema)    # Use Bronze Schema (Set it for the user session)\n",
    "            \n",
    "            cursor.execute(create_role_sql)                # CREATE ROLE\n",
    "            print(\"Role created successfully.\")\n",
    "            cursor.execute(priv_usage_on_warehouse)        # Grant Usage privilege on Warehouse TO ROLE storage_admin\n",
    "            cursor.execute(priv_usage_on_database)         # Grant Usage privilege on Database TO ROLE storage_admin\n",
    "            cursor.execute(priv_usage_on_schema)           # Grant Usage privilege on Schema TO ROLE storage_admin\n",
    "            cursor.execute(priv_create_table_on_schema)    # Grant Create Table on Schema TO ROLE storage_admin\n",
    "            cursor.execute(priv_create_file_fmt_on_schema) # Grant Create File Format privilege on Schema TO ROLE storage_admin\n",
    "            cursor.execute(priv_create_stage_on_schema)    # Grant Create Stage privilege on Schema TO ROLE storage_admin\n",
    "            \n",
    "            cursor.execute(create_user_sql)                # CREATE USER\n",
    "            print(\"User created successfully.\")\n",
    "            cursor.execute(grant_role_to_myuser)           # Grant Role to the 'myuser' user\n",
    "            print(\"Role assigned to my cvconsulting.\")  \n",
    "            cursor.execute(grant_role_to_cvconsulting)     # Grant Role to the 'cvconsulting' user\n",
    "            print(\"Role assigned to my myuser.\") \n",
    "\n",
    "            cursor.execute(priv_create_interagration)      # Grant CREATE STORAGE INTEGRATION TO ROLE storage_admin     \n",
    "            cursor.execute(create_storage_integration_sql) # CREATE STORAGE INTEGRATION\n",
    "            print(\"Storage Integration successful.\")\n",
    "            cursor.execute(priv_usage_on_integration)      # Grant Usage privilege on Integration TO ROLE storage_admin\n",
    "            cursor.execute(show_storage_integration_sql)   # Storage Integration details\n",
    "            result = cursor.fetchall()\n",
    "            print(\"Storage Integration details:\")\n",
    "            for row in result:\n",
    "                print(row)\n",
    "            cursor.execute(desc_storage_integration_sql)  # Storage Integration details for AWS\n",
    "            result = cursor.fetchall()\n",
    "            print(\"Storage Integration details for AWS:\")\n",
    "            storage_aws_iam_user_arn = None\n",
    "            storage_aws_external_id = None\n",
    "            for row in result:\n",
    "                if row[0] == 'STORAGE_AWS_IAM_USER_ARN':\n",
    "                    storage_aws_iam_user_arn = row[2]\n",
    "                    print(f\"STORAGE_AWS_IAM_USER_ARN: {storage_aws_iam_user_arn}\")\n",
    "                elif row[0] == 'STORAGE_AWS_EXTERNAL_ID':\n",
    "                    storage_aws_external_id = row[2]\n",
    "                    print(f\"STORAGE_AWS_EXTERNAL_ID: {storage_aws_external_id}\")\n",
    "            \n",
    "            cursor.execute(create_named_file_format_sql)  # CREATE NAMED FILE FORMAT FOR EXTERNAL STAGE\n",
    "            print(\"Named File Format created.\")\n",
    "            cursor.execute(grant_usage_on_file_format)    # Grant Usage on File Format to ROKE storage_admin      \n",
    "            \n",
    "            cursor.execute(create_external_stage_sql)     # CREATE EXTERNAL STAGE  \n",
    "            print(\"External Stage created.\")\n",
    "            cursor.execute(grant_usage_on_external_stage) # Grant USAGE privilege on the External Stage TO ROLE storage_admin\n",
    "            cursor.execute(show_external_stage_sql)       # Show External Stage Details\n",
    "            result = cursor.fetchall()\n",
    "            print(\"External stage details:\")\n",
    "            for row in result:\n",
    "                print(row)\n",
    "\n",
    "        except snowflake.connector.errors.ProgrammingError as e:\n",
    "                print(f\"Snowflake ProgrammingError: {e}\")\n",
    "\n",
    "        finally:\n",
    "            cursor.close()    \n",
    "\n",
    "except snowflake.connector.errors.DatabaseError as e:\n",
    "    print(f\"Snowflake DatabaseError: {e}\")\n",
    "\n",
    "print(\"Script execution completed.\")"
   ]
  },
  {
   "cell_type": "markdown",
   "metadata": {},
   "source": [
    "### Checking if Privileges are Correctly Granted"
   ]
  },
  {
   "cell_type": "code",
   "execution_count": null,
   "metadata": {},
   "outputs": [],
   "source": [
    "# try:\n",
    "#     # Snowflake connection context manager\n",
    "#     with snowflake.connector.connect(\n",
    "#         user=snowflake_user,\n",
    "#         password=snowflake_password,\n",
    "#         account=snowflake_account,\n",
    "#         warehouse=snowflake_warehouse,\n",
    "#         database=snowflake_database,\n",
    "#         schema=snowflake_schema_bronze  # Optionally specify the schema for the session\n",
    "#     ) as conn:\n",
    "        \n",
    "#         # Execute operations within the context manager\n",
    "#         cursor = conn.cursor()\n",
    "\n",
    "#         try:\n",
    "#             # Query to retrieve privileges granted to the role\n",
    "#             query = \"\"\"\n",
    "#             SELECT *\n",
    "#             FROM INFORMATION_SCHEMA.OBJECT_PRIVILEGES\n",
    "#             WHERE GRANTEE = 'STORAGE_ADMIN'\n",
    "#             ORDER BY OBJECT_TYPE, OBJECT_NAME, PRIVILEGE_TYPE;\n",
    "#             \"\"\"\n",
    "            \n",
    "#             cursor.execute(query)\n",
    "#             result = cursor.fetchall()\n",
    "            \n",
    "#             # Convert result to a DataFrame\n",
    "#             df = pd.DataFrame(result, columns=[desc[0] for desc in cursor.description])\n",
    "            \n",
    "#             # Print the DataFrame\n",
    "#             print(\"Privileges granted to STORAGE_ADMIN:\")\n",
    "#             print(df)\n",
    "\n",
    "#         except snowflake.connector.errors.ProgrammingError as e:\n",
    "#             print(f\"Snowflake ProgrammingError: {e}\")\n",
    "\n",
    "#         finally:\n",
    "#             cursor.close()    \n",
    "\n",
    "# except snowflake.connector.errors.DatabaseError as e:\n",
    "#     print(f\"Snowflake DatabaseError: {e}\")\n",
    "\n",
    "# print(\"Script execution completed.\")"
   ]
  }
 ],
 "metadata": {
  "kernelspec": {
   "display_name": "Python 3",
   "language": "python",
   "name": "python3"
  },
  "language_info": {
   "codemirror_mode": {
    "name": "ipython",
    "version": 3
   },
   "file_extension": ".py",
   "mimetype": "text/x-python",
   "name": "python",
   "nbconvert_exporter": "python",
   "pygments_lexer": "ipython3",
   "version": "3.9.13"
  }
 },
 "nbformat": 4,
 "nbformat_minor": 2
}
