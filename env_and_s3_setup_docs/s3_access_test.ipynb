{
 "cells": [
  {
   "cell_type": "markdown",
   "metadata": {},
   "source": [
    "## Testing the Access to the S3 Bucket"
   ]
  },
  {
   "cell_type": "code",
   "execution_count": 1,
   "metadata": {},
   "outputs": [],
   "source": [
    "import os\n",
    "import boto3\n",
    "from dotenv import load_dotenv"
   ]
  },
  {
   "cell_type": "code",
   "execution_count": 2,
   "metadata": {},
   "outputs": [
    {
     "name": "stdout",
     "output_type": "stream",
     "text": [
      "Objects in bucket:\n",
      "raw/\n"
     ]
    }
   ],
   "source": [
    "# Load environment variables\n",
    "load_dotenv()\n",
    "\n",
    "# Fetch AWS credentials from environment variables\n",
    "s3_access_key_id = os.getenv('S3_ACCESS_KEY_ID')\n",
    "s3_secret_access_key = os.getenv('S3_SECRET_ACCESS_KEY')\n",
    "s3_region = os.getenv('S3_REGION')\n",
    "s3_bucket_name = os.getenv('S3_BUCKET_NAME')\n",
    "\n",
    "# Initialize a session using boto3\n",
    "session = boto3.Session(\n",
    "    aws_access_key_id=s3_access_key_id,\n",
    "    aws_secret_access_key=s3_secret_access_key,\n",
    "    region_name=s3_region\n",
    ")\n",
    "\n",
    "# Initialize S3 client\n",
    "s3_client = session.client('s3')\n",
    "\n",
    "# Example: List objects in the bucket to verify access\n",
    "try:\n",
    "    response = s3_client.list_objects_v2(\n",
    "        Bucket=str(s3_bucket_name)  # Ensure bucket_name is converted to string\n",
    "    )\n",
    "    # Print object keys if listing was successful\n",
    "    print(\"Objects in bucket:\")\n",
    "    for obj in response.get('Contents', []):\n",
    "        print(obj['Key'])\n",
    "except Exception as e:\n",
    "    print(f\"Error accessing bucket: {str(e)}\")"
   ]
  }
 ],
 "metadata": {
  "kernelspec": {
   "display_name": ".venv",
   "language": "python",
   "name": "python3"
  },
  "language_info": {
   "codemirror_mode": {
    "name": "ipython",
    "version": 3
   },
   "file_extension": ".py",
   "mimetype": "text/x-python",
   "name": "python",
   "nbconvert_exporter": "python",
   "pygments_lexer": "ipython3",
   "version": "3.9.13"
  }
 },
 "nbformat": 4,
 "nbformat_minor": 2
}
